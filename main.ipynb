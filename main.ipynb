{
 "cells": [
  {
   "cell_type": "markdown",
   "metadata": {
    "collapsed": true,
    "pycharm": {
     "name": "#%% md\n"
    }
   },
   "source": [
    "# People Tracker"
   ]
  },
  {
   "cell_type": "markdown",
   "source": [
    "Import Packages"
   ],
   "metadata": {
    "collapsed": false,
    "pycharm": {
     "name": "#%% md\n"
    }
   }
  },
  {
   "cell_type": "code",
   "execution_count": 1,
   "outputs": [],
   "source": [
    "from submodules.centroidtracker import CentroidTracker\n",
    "from submodules.trackableobject import TrackableObject\n",
    "from imutils.video import VideoStream # work with webcam\n",
    "from imutils.video import FPS # calculate frames per second\n",
    "import numpy as np\n",
    "import argparse\n",
    "import imutils\n",
    "import time\n",
    "import dlib # correlation tracker implementation\n",
    "import cv2 # opencv bindings"
   ],
   "metadata": {
    "collapsed": false,
    "pycharm": {
     "name": "#%%\n"
    }
   }
  },
  {
   "cell_type": "markdown",
   "source": [
    "Argument Parser"
   ],
   "metadata": {
    "collapsed": false,
    "pycharm": {
     "name": "#%% md\n"
    }
   }
  },
  {
   "cell_type": "code",
   "execution_count": 2,
   "outputs": [],
   "source": [
    "# since using notebooks, replace an argument parser with hard coded arguments and values\n",
    "\n",
    "args = {\n",
    "    \"prototxt\": \"mobilenet_ssd/MobileNetSSD_deploy.prototxt\",\n",
    "    \"model\": \"mobilenet_ssd/MobileNetSSD_deploy.caffemodel\",\n",
    "    \"input\": \"videos/example_01.mp4\",\n",
    "    \"output\": \"output/output_01.avi\",\n",
    "    \"confidence\": 0.4,\n",
    "    \"skip_frames\": 30\n",
    "}"
   ],
   "metadata": {
    "collapsed": false,
    "pycharm": {
     "name": "#%%\n"
    }
   }
  },
  {
   "cell_type": "markdown",
   "source": [
    "Initialize set of class labels MobileNet SSD was trained to detect"
   ],
   "metadata": {
    "collapsed": false,
    "pycharm": {
     "name": "#%% md\n"
    }
   }
  },
  {
   "cell_type": "code",
   "execution_count": 3,
   "outputs": [],
   "source": [
    "CLASSES = [\"background\",\n",
    "           \"aeroplane\",\n",
    "           \"bicycle\",\n",
    "           \"bird\",\n",
    "           \"boat\",\n",
    "           \"bottle\",\n",
    "           \"bus\",\n",
    "           \"car\",\n",
    "           \"cat\",\n",
    "           \"chair\",\n",
    "           \"cow\",\n",
    "           \"diningtable\",\n",
    "           \"dog\",\n",
    "           \"horse\",\n",
    "           \"motorbike\",\n",
    "           \"person\",\n",
    "           \"pottedpolant\",\n",
    "           \"sheep\",\n",
    "           \"sofa\",\n",
    "           \"train\",\n",
    "           \"tvmonitor\"]"
   ],
   "metadata": {
    "collapsed": false,
    "pycharm": {
     "name": "#%%\n"
    }
   }
  },
  {
   "cell_type": "markdown",
   "source": [
    "Load the serialized model from disk"
   ],
   "metadata": {
    "collapsed": false,
    "pycharm": {
     "name": "#%% md\n"
    }
   }
  },
  {
   "cell_type": "code",
   "execution_count": 4,
   "outputs": [
    {
     "name": "stdout",
     "output_type": "stream",
     "text": [
      "[INFO] loading model...\n"
     ]
    }
   ],
   "source": [
    "print(\"[INFO] loading model...\")\n",
    "net = cv2.dnn.readNetFromCaffe(args[\"prototxt\"], args[\"model\"])"
   ],
   "metadata": {
    "collapsed": false,
    "pycharm": {
     "name": "#%%\n"
    }
   }
  },
  {
   "cell_type": "markdown",
   "source": [
    "Grab the input video file"
   ],
   "metadata": {
    "collapsed": false,
    "pycharm": {
     "name": "#%% md\n"
    }
   }
  },
  {
   "cell_type": "code",
   "execution_count": 5,
   "outputs": [
    {
     "name": "stdout",
     "output_type": "stream",
     "text": [
      "[INFO] opening video file...\n"
     ]
    }
   ],
   "source": [
    "print(\"[INFO] opening video file...\")\n",
    "vs = cv2.VideoCapture(args[\"input\"])"
   ],
   "metadata": {
    "collapsed": false,
    "pycharm": {
     "name": "#%%\n"
    }
   }
  },
  {
   "cell_type": "markdown",
   "source": [
    "Initialize the video writer and frame dimensions"
   ],
   "metadata": {
    "collapsed": false,
    "pycharm": {
     "name": "#%% md\n"
    }
   }
  },
  {
   "cell_type": "code",
   "execution_count": 6,
   "outputs": [],
   "source": [
    "writer = None\n",
    "W = None\n",
    "H = None"
   ],
   "metadata": {
    "collapsed": false,
    "pycharm": {
     "name": "#%%\n"
    }
   }
  },
  {
   "cell_type": "markdown",
   "source": [
    "Instantiate the centroid tracker\n",
    "then initialize a list to store each dlib correlation tracker\n",
    "then a dictionary to map each unique objectID to a trackableobject"
   ],
   "metadata": {
    "collapsed": false,
    "pycharm": {
     "name": "#%% md\n"
    }
   }
  },
  {
   "cell_type": "code",
   "execution_count": 7,
   "outputs": [],
   "source": [
    "ct = CentroidTracker(maxDisappeared=40, maxDistance=50)\n",
    "trackers = []\n",
    "trackableObjects = {}"
   ],
   "metadata": {
    "collapsed": false,
    "pycharm": {
     "name": "#%%\n"
    }
   }
  },
  {
   "cell_type": "markdown",
   "source": [
    "Initialize the total number of frames processed so far\n",
    "Initialize the total number of objects that have moved up or down"
   ],
   "metadata": {
    "collapsed": false,
    "pycharm": {
     "name": "#%% md\n"
    }
   }
  },
  {
   "cell_type": "code",
   "execution_count": 8,
   "outputs": [],
   "source": [
    "totalFrames = 0\n",
    "totalDown = 0\n",
    "totalUp = 0"
   ],
   "metadata": {
    "collapsed": false,
    "pycharm": {
     "name": "#%%\n"
    }
   }
  },
  {
   "cell_type": "markdown",
   "source": [
    "Start the frames per second throughput estimator"
   ],
   "metadata": {
    "collapsed": false,
    "pycharm": {
     "name": "#%% md\n"
    }
   }
  },
  {
   "cell_type": "code",
   "execution_count": 9,
   "outputs": [],
   "source": [
    "fps = FPS().start()"
   ],
   "metadata": {
    "collapsed": false,
    "pycharm": {
     "name": "#%%\n"
    }
   }
  },
  {
   "cell_type": "markdown",
   "source": [
    "Loop over the frames from the video stream"
   ],
   "metadata": {
    "collapsed": false,
    "pycharm": {
     "name": "#%% md\n"
    }
   }
  },
  {
   "cell_type": "code",
   "execution_count": 10,
   "outputs": [],
   "source": [
    "while True:\n",
    "    # grab the next frame and handle from VideoCapture or VideoStream\n",
    "    frame = vs.read()\n",
    "    frame = frame[1] if args.get(\"input\", False) else frame\n",
    "\n",
    "    # if viewing a video and did not grab a frame, it's the end of the video\n",
    "    if args[\"input\"] is not None and frame is None:\n",
    "        break\n",
    "\n",
    "    # resize the frame to have a maximum width of 500px\n",
    "    # less data = faster processing\n",
    "    # convert from BGR to RGB to dlib\n",
    "    frame = imutils.resize(frame, width=500)\n",
    "    rgb = cv2.cvtColor(frame, cv2.COLOR_BGR2RGB)\n",
    "\n",
    "    # if the frame dims are empty, set them\n",
    "    if W is None or H is None:\n",
    "        (H, W) = frame.shape[:2]\n",
    "\n",
    "    # if writing video to disk, initialize the writer\n",
    "    if args[\"output\"] is not None and writer is None:\n",
    "        fourcc = cv2.VideoWriter_fourcc(*\"MJPG\")\n",
    "        writer = cv2.VideoWriter(args[\"output\"], fourcc, 30, (W, H), True)\n",
    "\n",
    "    # initialize  the current status with the bounding box rectangles\n",
    "    # returned by the objectdetector or the correlationtracker\n",
    "    status = \"Waiting\"\n",
    "    rects = []\n",
    "\n",
    "    # check to see if we should run more detection\n",
    "    # more detection = more computation = more $$ cost\n",
    "    if totalFrames % args[\"skip_frames\"] == 0:\n",
    "        # set the status and initialize new set of object trackers\n",
    "        status = \"Detecting\"\n",
    "        trackers = []\n",
    "\n",
    "        # convert the frame to a blobk\n",
    "        # pass the blob through the network\n",
    "        # obtain the detections\n",
    "        blob = cv2.dnn.blobFromImage(frame, 0.007843, (W, H), 127.5)\n",
    "        net.setInput(blob)\n",
    "        detections = net.forward()\n",
    "\n",
    "        # loop over ddetections\n",
    "        for i in np.arange(0, detections.shape[2]):\n",
    "            # extract the confidence (probability) associated with the prediction\n",
    "            confidence = detections[0, 0, i, 2]\n",
    "\n",
    "            # filter out weak detections by requiring minimum confidence\n",
    "            if confidence > args[\"confidence\"]:\n",
    "                # extract the index of class label from the detection list\n",
    "                idx = int(detections[0, 0, i, 1])\n",
    "\n",
    "                # if the class label is not a person, ignore it\n",
    "                if CLASSES[idx] != \"person\":\n",
    "                    continue\n",
    "\n",
    "                # compute the x,y coordiante of the bounding box\n",
    "                box = detections[0, 0, i, 3:7] * np.array([W, H, W, H])\n",
    "                (startX, startY, endX, endY) = box.astype(\"int\")\n",
    "\n",
    "                # construct a dlib rectangle object from the bounding\n",
    "                # box coordinates and then start dlib correlation tracker\n",
    "                tracker = dlib.correlation_tracker()\n",
    "                rect = dlib.rectangle(startX, startY, endX, endY)\n",
    "                tracker.start_track(rgb, rect)\n",
    "\n",
    "                # add the tracker to list of trackers and use to skip frames\n",
    "                trackers.append(tracker)\n",
    "\n",
    "        # otherwise, utilize the object trackers rather than object detectors\n",
    "        # to get a higher frame throughput\n",
    "        else:\n",
    "            # loop over the trackers\n",
    "            for tracker in trackers:\n",
    "                # set the status of the system to tracking, rather than waiting/detecting\n",
    "                status = \"Tracking\"\n",
    "\n",
    "                # update the tracker and grab the updated position\n",
    "                tracker.update(rgb)\n",
    "                pos = tracker.get_position()\n",
    "\n",
    "                # unplac the position oobject\n",
    "                startX = int(pos.left())\n",
    "                startY = int(pos.top())\n",
    "                endX = int(pos.right())\n",
    "                endY = int(pos.bottom())\n",
    "\n",
    "                # add the bounding box coordinates to the rectangle list\n",
    "                rects.append((startX, startY, endX, endY))\n",
    "\n",
    "        # draw a horizontal line across the center of the frame\n",
    "        # once an object crosses, determine if moving up or down\n",
    "        cv2.line(frame, (0, H // 2), (W, H // 2), (0, 255, 255), 2)\n",
    "\n",
    "        # use the centroid tracker to associate\n",
    "        # (1) the old object centroid with\n",
    "        # (2) the newly computed object centroids\n",
    "        objects = ct.update(rects)\n",
    "\n",
    "        # loop over tracked objects\n",
    "        for (objectID, centroid) in objects.items():\n",
    "            # check if the trackable object exists for current objectID\n",
    "            to = trackableObjects.get(objectID, None)\n",
    "\n",
    "            # if there are no existing trackable objects, create one\n",
    "            if to is None:\n",
    "                to = TrackableObject(objectID, centroid)\n",
    "\n",
    "            # otherwise, there is a trackeable object\n",
    "            # use to get direction\n",
    "            else:\n",
    "                # the difference between the y-coord of the current centroid\n",
    "                # and the mean of the previous centroid results in\n",
    "                # which direction the object is moving\n",
    "                # negative is up, positive is down\n",
    "                y = [c[1] for c in to.centroids]\n",
    "                direction = centroid[1] = np.mean(y)\n",
    "                to.centroids.append(centroid)\n",
    "\n",
    "                # check if object was counted or not\n",
    "                if not to.counted:\n",
    "                    # if the direction is negative (moving up)\n",
    "                    # AND the centroid is above the center line\n",
    "                    # count the object\n",
    "                    if direction < 0 and centroid[1] < H // 2:\n",
    "                        totalUp += 1\n",
    "                        to.counted = True\n",
    "\n",
    "                    # if the direction is positive (moving down)\n",
    "                    # AND the centroid is below the center line\n",
    "                    # count the object\n",
    "                    if direction > 0 and centroid[1] > H // 2:\n",
    "                        totalDown += 1\n",
    "                        to.counted = True\n",
    "\n",
    "            # store trackable object in the dictionary\n",
    "            trackableObjects[objectID] = to\n",
    "\n",
    "            # draw both the ID of the object and centroid of the oobject\n",
    "            text = \"Id {}\".format(objectID)\n",
    "            cv2.putText(frame, text, (centroid[0] - 10, centroid[1] - 10),\n",
    "              cv2.FONT_HERSHEY_SIMPLEX, 0.5, (0, 255, 0), 2)\n",
    "            cv2.circle(frame, (centroid[0], centroid[1]), 4, (0, 255, 0), -1)\n",
    "\n",
    "        # construct a tuple of information we will be displaying on the frame\n",
    "        info = [\n",
    "            (\"Up\", totalUp),\n",
    "            (\"Down\", totalDown),\n",
    "            (\"Status\", status),\n",
    "        ]\n",
    "\n",
    "            # loop over info tuples and draw on our frame\n",
    "        for (i, (k, v)) in enumerate(info):\n",
    "            text = \"{}: {}\".format(k, v)\n",
    "            cv2.putText(frame, text, (10, H - ((i * 20) + 20)),\n",
    "              cv2.FONT_HERSHEY_SIMPLEX, 0.6, (0, 0, 255), 2)\n",
    "\n",
    "        # check if write frame to disk\n",
    "        if writer is not None:\n",
    "            writer.write(frame)\n",
    "\n",
    "        # increment the total number of frame processed and update FPS coutner\n",
    "        totalFrames += 1\n",
    "        fps.update()"
   ],
   "metadata": {
    "collapsed": false,
    "pycharm": {
     "name": "#%%\n"
    }
   }
  },
  {
   "cell_type": "code",
   "execution_count": 11,
   "outputs": [
    {
     "name": "stdout",
     "output_type": "stream",
     "text": [
      "[INFO] elapsed time: 1.06\n",
      "[INFO] approx. FPS: 0.95\n"
     ]
    }
   ],
   "source": [
    "# stop the timer and display FPS information\n",
    "fps.stop()\n",
    "print(\"[INFO] elapsed time: {:.2f}\".format(fps.elapsed()))\n",
    "print(\"[INFO] approx. FPS: {:.2f}\".format(fps.fps()))\n",
    "\n",
    "# check to see if we need to release the video writer pointer\n",
    "if writer is not None:\n",
    "\twriter.release()\n",
    "\n",
    "# release the video file pointer\n",
    "vs.release()"
   ],
   "metadata": {
    "collapsed": false,
    "pycharm": {
     "name": "#%%\n"
    }
   }
  },
  {
   "cell_type": "code",
   "execution_count": 12,
   "outputs": [
    {
     "name": "stdout",
     "output_type": "stream",
     "text": [
      "ffmpeg version 4.3.1 Copyright (c) 2000-2020 the FFmpeg developers\r\n",
      "  built with Apple clang version 12.0.0 (clang-1200.0.32.27)\r\n",
      "  configuration: --prefix=/usr/local/Cellar/ffmpeg/4.3.1_4 --enable-shared --enable-pthreads --enable-version3 --enable-avresample --cc=clang --host-cflags= --host-ldflags= --enable-ffplay --enable-gnutls --enable-gpl --enable-libaom --enable-libbluray --enable-libdav1d --enable-libmp3lame --enable-libopus --enable-librav1e --enable-librubberband --enable-libsnappy --enable-libsrt --enable-libtesseract --enable-libtheora --enable-libvidstab --enable-libvorbis --enable-libvpx --enable-libwebp --enable-libx264 --enable-libx265 --enable-libxml2 --enable-libxvid --enable-lzma --enable-libfontconfig --enable-libfreetype --enable-frei0r --enable-libass --enable-libopencore-amrnb --enable-libopencore-amrwb --enable-libopenjpeg --enable-librtmp --enable-libspeex --enable-libsoxr --enable-videotoolbox --disable-libjack --disable-indev=jack\r\n",
      "  libavutil      56. 51.100 / 56. 51.100\r\n",
      "  libavcodec     58. 91.100 / 58. 91.100\r\n",
      "  libavformat    58. 45.100 / 58. 45.100\r\n",
      "  libavdevice    58. 10.100 / 58. 10.100\r\n",
      "  libavfilter     7. 85.100 /  7. 85.100\r\n",
      "  libavresample   4.  0.  0 /  4.  0.  0\r\n",
      "  libswscale      5.  7.100 /  5.  7.100\r\n",
      "  libswresample   3.  7.100 /  3.  7.100\r\n",
      "  libpostproc    55.  7.100 / 55.  7.100\r\n",
      "Input #0, avi, from 'output/output_01.avi':\r\n",
      "  Metadata:\r\n",
      "    encoder         : Lavf58.76.100\r\n",
      "  Duration: 00:00:00.03, start: 0.000000, bitrate: 5531 kb/s\r\n",
      "    Stream #0:0: Video: mjpeg (Baseline) (MJPG / 0x47504A4D), yuvj420p(pc, bt470bg/unknown/unknown), 500x372, 30 fps, 30 tbr, 30 tbn, 30 tbc\r\n",
      "Stream mapping:\r\n",
      "  Stream #0:0 -> #0:0 (mjpeg (native) -> h264 (libx264))\r\n",
      "Press [q] to stop, [?] for help\r\n",
      "\u001B[1;36m[libx264 @ 0x7f8501008e00] \u001B[0musing cpu capabilities: MMX2 SSE2Fast SSSE3 SSE4.2 AVX FMA3 BMI2 AVX2\r\n",
      "\u001B[1;36m[libx264 @ 0x7f8501008e00] \u001B[0mprofile High, level 3.0, 4:2:0, 8-bit\r\n",
      "\u001B[1;36m[libx264 @ 0x7f8501008e00] \u001B[0m264 - core 161 r3027 4121277 - H.264/MPEG-4 AVC codec - Copyleft 2003-2020 - http://www.videolan.org/x264.html - options: cabac=1 ref=3 deblock=1:0:0 analyse=0x3:0x113 me=hex subme=7 psy=1 psy_rd=1.00:0.00 mixed_ref=1 me_range=16 chroma_me=1 trellis=1 8x8dct=1 cqm=0 deadzone=21,11 fast_pskip=1 chroma_qp_offset=-2 threads=12 lookahead_threads=2 sliced_threads=0 nr=0 decimate=1 interlaced=0 bluray_compat=0 constrained_intra=0 bframes=3 b_pyramid=2 b_adapt=1 b_bias=0 direct=1 weightb=1 open_gop=0 weightp=2 keyint=250 keyint_min=25 scenecut=40 intra_refresh=0 rc_lookahead=40 rc=crf mbtree=1 crf=23.0 qcomp=0.60 qpmin=0 qpmax=69 qpstep=4 ip_ratio=1.40 aq=1:1.00\r\n",
      "Output #0, mp4, to 'output/output.mp4':\r\n",
      "  Metadata:\r\n",
      "    encoder         : Lavf58.45.100\r\n",
      "    Stream #0:0: Video: h264 (libx264) (avc1 / 0x31637661), yuvj420p(pc), 500x372, q=-1--1, 30 fps, 15360 tbn, 30 tbc\r\n",
      "    Metadata:\r\n",
      "      encoder         : Lavc58.91.100 libx264\r\n",
      "    Side data:\r\n",
      "      cpb: bitrate max/min/avg: 0/0/0 buffer size: 0 vbv_delay: N/A\r\n",
      "frame=    1 fps=0.0 q=29.0 Lsize=       9kB time=00:00:00.00 bitrate=1174153.8kbits/s speed=0.00501x    \r\n",
      "video:9kB audio:0kB subtitle:0kB other streams:0kB global headers:0kB muxing overhead: 9.203297%\r\n",
      "\u001B[1;36m[libx264 @ 0x7f8501008e00] \u001B[0mframe I:1     Avg QP:28.48  size:  8046\r\n",
      "\u001B[1;36m[libx264 @ 0x7f8501008e00] \u001B[0mmb I  I16..4:  8.5% 79.8% 11.7%\r\n",
      "\u001B[1;36m[libx264 @ 0x7f8501008e00] \u001B[0m8x8 transform intra:79.8%\r\n",
      "\u001B[1;36m[libx264 @ 0x7f8501008e00] \u001B[0mcoded y,uvDC,uvAC intra: 79.0% 36.1% 4.4%\r\n",
      "\u001B[1;36m[libx264 @ 0x7f8501008e00] \u001B[0mi16 v,h,dc,p: 18% 68%  6%  8%\r\n",
      "\u001B[1;36m[libx264 @ 0x7f8501008e00] \u001B[0mi8 v,h,dc,ddl,ddr,vr,hd,vl,hu: 29% 37% 17%  3%  2%  2%  2%  3%  5%\r\n",
      "\u001B[1;36m[libx264 @ 0x7f8501008e00] \u001B[0mi4 v,h,dc,ddl,ddr,vr,hd,vl,hu: 32% 41%  9%  3%  3%  3%  2%  2%  4%\r\n",
      "\u001B[1;36m[libx264 @ 0x7f8501008e00] \u001B[0mi8c dc,h,v,p: 52% 28% 18%  1%\r\n",
      "\u001B[1;36m[libx264 @ 0x7f8501008e00] \u001B[0mkb/s:1931.04\r\n"
     ]
    }
   ],
   "source": [
    "!ffmpeg -i output/output_01.avi output/output.mp4"
   ],
   "metadata": {
    "collapsed": false,
    "pycharm": {
     "name": "#%%\n"
    }
   }
  },
  {
   "cell_type": "code",
   "execution_count": 13,
   "outputs": [
    {
     "data": {
      "text/plain": "<IPython.core.display.HTML object>",
      "text/html": "\n<video width=400 controls>\n      <source src=\"data:video/mp4;base64,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\" type=\"video/mp4\">\n</video>\n"
     },
     "execution_count": 13,
     "metadata": {},
     "output_type": "execute_result"
    }
   ],
   "source": [
    "#@title Display video inline\n",
    "from IPython.display import HTML\n",
    "from base64 import b64encode\n",
    "\n",
    "mp4 = open(\"output/output.mp4\", \"rb\").read()\n",
    "dataURL = \"data:video/mp4;base64,\" + b64encode(mp4).decode()\n",
    "HTML(\"\"\"\n",
    "<video width=400 controls>\n",
    "      <source src=\"%s\" type=\"video/mp4\">\n",
    "</video>\n",
    "\"\"\" % dataURL)"
   ],
   "metadata": {
    "collapsed": false,
    "pycharm": {
     "name": "#%%\n"
    }
   }
  },
  {
   "cell_type": "code",
   "execution_count": 13,
   "outputs": [],
   "source": [],
   "metadata": {
    "collapsed": false,
    "pycharm": {
     "name": "#%%\n"
    }
   }
  }
 ],
 "metadata": {
  "kernelspec": {
   "display_name": "Python 3",
   "language": "python",
   "name": "python3"
  },
  "language_info": {
   "codemirror_mode": {
    "name": "ipython",
    "version": 2
   },
   "file_extension": ".py",
   "mimetype": "text/x-python",
   "name": "python",
   "nbconvert_exporter": "python",
   "pygments_lexer": "ipython2",
   "version": "2.7.6"
  }
 },
 "nbformat": 4,
 "nbformat_minor": 0
}